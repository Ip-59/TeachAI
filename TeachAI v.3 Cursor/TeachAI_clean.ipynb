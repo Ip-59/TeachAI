{
 "cells": [
  {
   "cell_type": "code",
   "execution_count": null,
   "id": "d9e788bc",
   "metadata": {},
   "outputs": [
    {
     "data": {
      "application/vnd.jupyter.widget-view+json": {
       "model_id": "01f98c4560d04cb489eb5271209e3a33",
       "version_major": 2,
       "version_minor": 0
      },
      "text/plain": [
       "VBox(children=(HTML(value='\\n                <div style=\"background: linear-gradient(135deg, #667eea 0%, #764b…"
      ]
     },
     "metadata": {},
     "output_type": "display_data"
    }
   ],
   "source": [
    "import importlib\n",
    "from IPython.display import display, clear_output\n",
    "from engine import TeachAIEngine\n",
    "\n",
    "# Очищаем вывод перед запуском\n",
    "importlib.invalidate_caches()\n",
    "clear_output(wait=True)\n",
    "\n",
    "# Инициализация и запуск TeachAI с оптимизированным отображением\n",
    "engine = TeachAIEngine()\n",
    "\n",
    "# Запускаем интерфейс (базовая инициализация происходит автоматически)\n",
    "interface_element = engine.start()\n",
    "\n",
    "# Проверяем, что интерфейс создан\n",
    "if interface_element:\n",
    "    # Очищаем вывод перед показом интерфейса\n",
    "    clear_output(wait=True)\n",
    "    display(interface_element)\n",
    "    print(\"✅ TeachAI запущен успешно!\")\n",
    "else:\n",
    "    print(\"❌ Ошибка при запуске системы TeachAI\")"
   ]
  }
 ],
 "metadata": {
  "kernelspec": {
   "display_name": ".venv",
   "language": "python",
   "name": "python3"
  },
  "language_info": {
   "codemirror_mode": {
    "name": "ipython",
    "version": 3
   },
   "file_extension": ".py",
   "mimetype": "text/x-python",
   "name": "python",
   "nbconvert_exporter": "python",
   "pygments_lexer": "ipython3",
   "version": "3.13.5"
  }
 },
 "nbformat": 4,
 "nbformat_minor": 5
}
