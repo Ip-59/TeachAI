{
 "cells": [
  {
   "cell_type": "code",
   "execution_count": 1,
   "id": "6da2324f",
   "metadata": {},
   "outputs": [
    {
     "name": "stdout",
     "output_type": "stream",
     "text": [
      "🧪 ТЕСТИРОВАНИЕ ИНТЕРАКТИВНЫХ ЯЧЕЕК\n",
      "==================================================\n",
      "=== Тест 1: Простая математическая задача ===\n"
     ]
    },
    {
     "data": {
      "application/vnd.jupyter.widget-view+json": {
       "model_id": "9b2fa1deaa21466f9610f22e833dfbb1",
       "version_major": 2,
       "version_minor": 0
      },
      "text/plain": [
       "InteractiveCellWidget(children=(HTML(value='<h3>Задача 1: Сложение чисел</h3>', layout=Layout(margin='0 0 5px …"
      ]
     },
     "metadata": {},
     "output_type": "display_data"
    },
    {
     "name": "stdout",
     "output_type": "stream",
     "text": [
      "\n",
      "=== Тест 2: Работа со списками ===\n"
     ]
    },
    {
     "data": {
      "application/vnd.jupyter.widget-view+json": {
       "model_id": "b2a1f08b2fe64f15904be3f3ee194683",
       "version_major": 2,
       "version_minor": 0
      },
      "text/plain": [
       "InteractiveCellWidget(children=(HTML(value='<h3>Задача 2: Список квадратов</h3>', layout=Layout(margin='0 0 5p…"
      ]
     },
     "metadata": {},
     "output_type": "display_data"
    },
    {
     "name": "stdout",
     "output_type": "stream",
     "text": [
      "\n",
      "=== Тест 3: Создание функции ===\n"
     ]
    },
    {
     "data": {
      "application/vnd.jupyter.widget-view+json": {
       "model_id": "e5b6d2606b61417e90310b3abb44fd85",
       "version_major": 2,
       "version_minor": 0
      },
      "text/plain": [
       "InteractiveCellWidget(children=(HTML(value='<h3>Задача 3: Функция факториала</h3>', layout=Layout(margin='0 0 …"
      ]
     },
     "metadata": {},
     "output_type": "display_data"
    },
    {
     "name": "stdout",
     "output_type": "stream",
     "text": [
      "\n",
      "=== Тест 4: Числовая точность ===\n"
     ]
    },
    {
     "data": {
      "application/vnd.jupyter.widget-view+json": {
       "model_id": "aa2fb081a1654c4a9f48925d21ed906c",
       "version_major": 2,
       "version_minor": 0
      },
      "text/plain": [
       "InteractiveCellWidget(children=(HTML(value='<h3>Задача 4: Площадь круга</h3>', layout=Layout(margin='0 0 5px 0…"
      ]
     },
     "metadata": {},
     "output_type": "display_data"
    },
    {
     "name": "stdout",
     "output_type": "stream",
     "text": [
      "\n",
      "=== Тест 5: Обработка строк ===\n"
     ]
    },
    {
     "data": {
      "application/vnd.jupyter.widget-view+json": {
       "model_id": "21ffb115bc3e4423a4a5e513a251f3c4",
       "version_major": 2,
       "version_minor": 0
      },
      "text/plain": [
       "InteractiveCellWidget(children=(HTML(value='<h3>Задача 5: Преобразование строки</h3>', layout=Layout(margin='0…"
      ]
     },
     "metadata": {},
     "output_type": "display_data"
    },
    {
     "name": "stdout",
     "output_type": "stream",
     "text": [
      "\n",
      "=== Тест 6: Задача с показом решения ===\n"
     ]
    },
    {
     "data": {
      "application/vnd.jupyter.widget-view+json": {
       "model_id": "cb1557bf3e794ff39f859018c66e62d1",
       "version_major": 2,
       "version_minor": 0
      },
      "text/plain": [
       "InteractiveCellWidget(children=(HTML(value='<h3>Задача 6: Максимум в списке</h3>', layout=Layout(margin='0 0 5…"
      ]
     },
     "metadata": {},
     "output_type": "display_data"
    },
    {
     "name": "stdout",
     "output_type": "stream",
     "text": [
      "\n",
      "=== Тест 7: Сложная логическая задача ===\n"
     ]
    },
    {
     "data": {
      "application/vnd.jupyter.widget-view+json": {
       "model_id": "fafee4b982c246d9b588602d08d338d1",
       "version_major": 2,
       "version_minor": 0
      },
      "text/plain": [
       "InteractiveCellWidget(children=(HTML(value='<h3>Задача 7: Четные числа</h3>', layout=Layout(margin='0 0 5px 0'…"
      ]
     },
     "metadata": {},
     "output_type": "display_data"
    },
    {
     "name": "stdout",
     "output_type": "stream",
     "text": [
      "\n",
      "=== Тест 8: Задача с возможными ошибками ===\n"
     ]
    },
    {
     "data": {
      "application/vnd.jupyter.widget-view+json": {
       "model_id": "2bab58ee12c242fabb7c3a0e1ae34085",
       "version_major": 2,
       "version_minor": 0
      },
      "text/plain": [
       "InteractiveCellWidget(children=(HTML(value='<h3>Задача 8: Деление чисел</h3>', layout=Layout(margin='0 0 5px 0…"
      ]
     },
     "metadata": {},
     "output_type": "display_data"
    },
    {
     "name": "stdout",
     "output_type": "stream",
     "text": [
      "\n",
      "=== Тест 9: Статистика по задачам ===\n"
     ]
    },
    {
     "data": {
      "application/vnd.jupyter.widget-view+json": {
       "model_id": "4cb43b31141c42ce9085623a10fd4266",
       "version_major": 2,
       "version_minor": 0
      },
      "text/plain": [
       "VBox(children=(Button(button_style='info', description='🔄 Обновить статистику', style=ButtonStyle()), HTML(val…"
      ]
     },
     "metadata": {},
     "output_type": "display_data"
    },
    {
     "name": "stdout",
     "output_type": "stream",
     "text": [
      "\n",
      "=== Тест 10: Управление ячейками ===\n"
     ]
    },
    {
     "data": {
      "application/vnd.jupyter.widget-view+json": {
       "model_id": "223737d6eef743a9af3c396b1e15bdd4",
       "version_major": 2,
       "version_minor": 0
      },
      "text/plain": [
       "VBox(children=(HTML(value='<h4>🔧 Управление данными ячеек</h4>'), HBox(children=(Dropdown(description='Ячейка:…"
      ]
     },
     "metadata": {},
     "output_type": "display_data"
    },
    {
     "name": "stdout",
     "output_type": "stream",
     "text": [
      "\n",
      "==================================================\n",
      "✅ Все тесты созданы!\n",
      "\n",
      "Инструкции для тестирования:\n",
      "1. Решите задачи выше, вводя код в редакторы\n",
      "2. Нажимайте '🚀 Выполнить' для проверки\n",
      "3. Используйте '💡 Решение' если застряли\n",
      "4. Смотрите статистику и управляйте данными\n",
      "5. Проверьте различные типы ошибок и ситуаций\n"
     ]
    }
   ],
   "source": [
    "import test_interactive_cells\n",
    "result = test_interactive_cells.run_all_tests()"
   ]
  },
  {
   "cell_type": "code",
   "execution_count": null,
   "id": "ad2340fa",
   "metadata": {},
   "outputs": [],
   "source": [
    "def factorial(n):\n",
    "    if n == 0:\n",
    "        return 1\n",
    "    else:\n",
    "        return n * factorial(n-1)\n",
    "\n",
    "# Создайте список четных чисел от 2 до 20\n",
    "even_numbers = []\n",
    "for i in range(2, 21, 2):\n",
    "    even_numbers.append(i)\n",
    "    "
   ]
  },
  {
   "cell_type": "code",
   "execution_count": 3,
   "id": "4f2a93f0",
   "metadata": {},
   "outputs": [
    {
     "data": {
      "application/vnd.jupyter.widget-view+json": {
       "model_id": "4ac0f89d7b68457f8f2580ec00abdf6c",
       "version_major": 2,
       "version_minor": 0
      },
      "text/plain": [
       "InteractiveCellWidget(children=(HTML(value=\"<div style='background: #f8f9fa; padding: 10px; border-left: 4px s…"
      ]
     },
     "metadata": {},
     "output_type": "display_data"
    }
   ],
   "source": [
    "# После очистки данных создайте новую ячейку\n",
    "from interactive_cell_widget import create_interactive_cell\n",
    "\n",
    "new_task = create_interactive_cell(\n",
    "    task_description=\"Тест после очистки: 2 + 2 = ?\",\n",
    "    expected_result=4,\n",
    "    cell_id=\"test_after_clear\"\n",
    ")\n",
    "\n",
    "display(new_task)"
   ]
  }
 ],
 "metadata": {
  "kernelspec": {
   "display_name": "Python 3",
   "language": "python",
   "name": "python3"
  },
  "language_info": {
   "codemirror_mode": {
    "name": "ipython",
    "version": 3
   },
   "file_extension": ".py",
   "mimetype": "text/x-python",
   "name": "python",
   "nbconvert_exporter": "python",
   "pygments_lexer": "ipython3",
   "version": "3.13.4"
  }
 },
 "nbformat": 4,
 "nbformat_minor": 5
}
