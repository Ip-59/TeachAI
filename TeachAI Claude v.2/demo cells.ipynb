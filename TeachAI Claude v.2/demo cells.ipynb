{
 "cells": [
  {
   "cell_type": "code",
   "execution_count": 1,
   "id": "f688dc6b",
   "metadata": {},
   "outputs": [
    {
     "name": "stdout",
     "output_type": "stream",
     "text": [
      "🧪 ТЕСТИРОВАНИЕ ДЕМОНСТРАЦИОННЫХ ЯЧЕЕК\n",
      "==================================================\n",
      "=== Тест 1: Простая демонстрационная ячейка ===\n"
     ]
    },
    {
     "data": {
      "application/vnd.jupyter.widget-view+json": {
       "model_id": "fa690dfc93f747ba929d21b42eb94701",
       "version_major": 2,
       "version_minor": 0
      },
      "text/plain": [
       "DemoCellWidget(children=(HTML(value='<h3>Пример 1: Работа с переменными</h3>', layout=Layout(margin='0 0 5px 0…"
      ]
     },
     "metadata": {},
     "output_type": "display_data"
    },
    {
     "name": "stdout",
     "output_type": "stream",
     "text": [
      "\n",
      "=== Тест 2: Демонстрация с циклом ===\n"
     ]
    },
    {
     "data": {
      "application/vnd.jupyter.widget-view+json": {
       "model_id": "c4b96e2332ef4e3187e29281a50ca942",
       "version_major": 2,
       "version_minor": 0
      },
      "text/plain": [
       "DemoCellWidget(children=(HTML(value='<h3>Пример 2: Цикл и список</h3>', layout=Layout(margin='0 0 5px 0')), HT…"
      ]
     },
     "metadata": {},
     "output_type": "display_data"
    },
    {
     "name": "stdout",
     "output_type": "stream",
     "text": [
      "\n",
      "=== Тест 3: Демонстрация с функцией ===\n"
     ]
    },
    {
     "data": {
      "application/vnd.jupyter.widget-view+json": {
       "model_id": "9ad7acf4b12f41b091bf57e2353a0230",
       "version_major": 2,
       "version_minor": 0
      },
      "text/plain": [
       "DemoCellWidget(children=(HTML(value='<h3>Пример 3: Рекурсивная функция</h3>', layout=Layout(margin='0 0 5px 0'…"
      ]
     },
     "metadata": {},
     "output_type": "display_data"
    },
    {
     "name": "stdout",
     "output_type": "stream",
     "text": [
      "\n",
      "=== Тест 4: Демонстрация со скрытым кодом ===\n"
     ]
    },
    {
     "data": {
      "application/vnd.jupyter.widget-view+json": {
       "model_id": "727c8042a953403f9a51905deed97f0a",
       "version_major": 2,
       "version_minor": 0
      },
      "text/plain": [
       "DemoCellWidget(children=(HTML(value='<h3>Пример 4: Скрытый код</h3>', layout=Layout(margin='0 0 5px 0')), HTML…"
      ]
     },
     "metadata": {},
     "output_type": "display_data"
    },
    {
     "name": "stdout",
     "output_type": "stream",
     "text": [
      "\n",
      "=== Тест 5: Автоматический запуск ===\n"
     ]
    },
    {
     "data": {
      "application/vnd.jupyter.widget-view+json": {
       "model_id": "2b7bd4075386453fb472a52cba31a57c",
       "version_major": 2,
       "version_minor": 0
      },
      "text/plain": [
       "DemoCellWidget(children=(HTML(value='<h3>Пример 5: Автозапуск</h3>', layout=Layout(margin='0 0 5px 0')), HTML(…"
      ]
     },
     "metadata": {},
     "output_type": "display_data"
    },
    {
     "name": "stdout",
     "output_type": "stream",
     "text": [
      "\n",
      "=== Тест 6: Демонстрация с ошибкой ===\n"
     ]
    },
    {
     "data": {
      "application/vnd.jupyter.widget-view+json": {
       "model_id": "78a0c4964c8a41329aa25f7ea4c53e89",
       "version_major": 2,
       "version_minor": 0
      },
      "text/plain": [
       "DemoCellWidget(children=(HTML(value='<h3>Пример 6: Обработка ошибок</h3>', layout=Layout(margin='0 0 5px 0')),…"
      ]
     },
     "metadata": {},
     "output_type": "display_data"
    },
    {
     "name": "stdout",
     "output_type": "stream",
     "text": [
      "\n",
      "=== Тест 7: Функция-помощник create_demo_cell ===\n"
     ]
    },
    {
     "data": {
      "application/vnd.jupyter.widget-view+json": {
       "model_id": "8bb24e49f15c4cc6a76eda31cfa5d42c",
       "version_major": 2,
       "version_minor": 0
      },
      "text/plain": [
       "DemoCellWidget(children=(HTML(value='<h3>Пример 7: Словари</h3>', layout=Layout(margin='0 0 5px 0')), HTML(val…"
      ]
     },
     "metadata": {},
     "output_type": "display_data"
    },
    {
     "name": "stdout",
     "output_type": "stream",
     "text": [
      "\n",
      "=== Тест 8: Динамическое изменение кода ===\n"
     ]
    },
    {
     "data": {
      "application/vnd.jupyter.widget-view+json": {
       "model_id": "71d04f1573c4425cbd034baaf05eb869",
       "version_major": 2,
       "version_minor": 0
      },
      "text/plain": [
       "DemoCellWidget(children=(HTML(value='<h3>Пример 8: Изменяемый код</h3>', layout=Layout(margin='0 0 5px 0')), H…"
      ]
     },
     "metadata": {},
     "output_type": "display_data"
    },
    {
     "data": {
      "application/vnd.jupyter.widget-view+json": {
       "model_id": "27fa2261c33441d288ebf533646e5f57",
       "version_major": 2,
       "version_minor": 0
      },
      "text/plain": [
       "Button(button_style='warning', description='🔄 Изменить код', style=ButtonStyle())"
      ]
     },
     "metadata": {},
     "output_type": "display_data"
    },
    {
     "name": "stdout",
     "output_type": "stream",
     "text": [
      "\n",
      "==================================================\n",
      "✅ Все тесты созданы!\n",
      "Попробуйте взаимодействовать с ячейками выше:\n",
      "- Нажимайте кнопки 'Запустить код'\n",
      "- Переключайте видимость кода\n",
      "- Смотрите на индикаторы статуса\n"
     ]
    }
   ],
   "source": [
    "import test_demo_cells\n",
    "demos = test_demo_cells.run_all_tests()"
   ]
  }
 ],
 "metadata": {
  "kernelspec": {
   "display_name": "Python 3",
   "language": "python",
   "name": "python3"
  },
  "language_info": {
   "codemirror_mode": {
    "name": "ipython",
    "version": 3
   },
   "file_extension": ".py",
   "mimetype": "text/x-python",
   "name": "python",
   "nbconvert_exporter": "python",
   "pygments_lexer": "ipython3",
   "version": "3.13.4"
  }
 },
 "nbformat": 4,
 "nbformat_minor": 5
}
